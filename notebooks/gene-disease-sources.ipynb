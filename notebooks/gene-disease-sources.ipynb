{
 "cells": [
  {
   "cell_type": "markdown",
   "metadata": {},
   "source": [
    "#### Sources of causal gene to disease associations\n",
    "\n",
    "Heuristic for determining if a gene to disease association is causal:\n",
    "\n",
    "OMIM\n",
    "- Gene to disease associations where the molecular basis is known, excluding\n",
    "  - abnormal laboratory test values and non-diseases\n",
    "  - susceptibility to complex and common disease\n",
    "  - provisional gene to phenotype associations\n",
    "\n",
    "Orphanet\n",
    "- Disease-causing germline mutation(s) in\n",
    "- Disease-causing somatic mutation(s) in\n",
    "- Disease-causing germline mutation(s) (gain of function) in\n",
    "- Disease-causing germline mutation(s) (loss of function) in\n",
    "\n",
    "ClinVar\n",
    "- Variant is pathogenic for condition AND the gene to disease association is present in the gene to condition file provided by ClinVar, which includes manual curation by NCBI staff and data from OMIM and GeneReviews\n",
    "\n",
    "\n",
    "This notebook uses the Monarch API to generate a break down of counts of gene-disease pairs per source\n"
   ]
  },
  {
   "cell_type": "code",
   "execution_count": 1,
   "metadata": {},
   "outputs": [
    {
     "name": "stdout",
     "output_type": "stream",
     "text": [
      "Protein coding genes: 19322\n"
     ]
    }
   ],
   "source": [
    "import urllib.request\n",
    "import re\n",
    "import requests\n",
    "\n",
    "\n",
    "# TODO update to production API before submission\n",
    "monarch_api = \"https://api-dev.monarchinitiative.org/api/\"\n",
    "\n",
    "# Protein coding genes from HGNC\n",
    "hgnc = 'ftp://ftp.ebi.ac.uk/pub/databases/genenames/new/tsv/locus_types/gene_with_protein_product.txt'\n",
    "\n",
    "protein_coding_genes = set()\n",
    "\n",
    "hgnc_resp = urllib.request.urlopen(hgnc).read()\n",
    "for line in hgnc_resp.decode('utf-8').splitlines():\n",
    "    protein_coding_genes.add(re.split(r'\\t', line)[0])\n",
    "        \n",
    "print(\"Protein coding genes: {}\".format(len(protein_coding_genes)))"
   ]
  },
  {
   "cell_type": "code",
   "execution_count": 2,
   "metadata": {},
   "outputs": [
    {
     "data": {
      "text/plain": [
       "('HGNC:27232',\n",
       " 'MONDO:0015993',\n",
       " ['https://data.monarchinitiative.org/ttl/orphanet.ttl'])"
      ]
     },
     "execution_count": 2,
     "metadata": {},
     "output_type": "execute_result"
    }
   ],
   "source": [
    "def get_gene_disease_associations(causality='causal'):\n",
    "    \"\"\"\n",
    "    Fetches gene to disease associations from the monarch API\n",
    "    \n",
    "    :param causality: 'causal', 'non-causal', 'both'\n",
    "    \n",
    "    Returns a list of 3-tuples of (gene_id, disease_id, [evidence])\n",
    "    \"\"\"\n",
    "    results = []\n",
    "        \n",
    "    disease_gene = monarch_api + \"bioentity/disease/MONDO:0000001/genes\"\n",
    "    params = {\n",
    "        'rows': 500,\n",
    "        'start': 0,\n",
    "        'unselect_evidence': True,\n",
    "        'association_type': causality\n",
    "    }\n",
    "    \n",
    "    resultCount = params['rows']\n",
    "    \n",
    "    while params['start'] < resultCount:\n",
    "        biolink_request = requests.get(disease_gene, params=params)\n",
    "        response = biolink_request.json()\n",
    "        resultCount = response['numFound']\n",
    "        params['start'] += params['rows']\n",
    "        \n",
    "        for assoc in response['associations']:\n",
    "            gene_id = assoc['object']['id']\n",
    "            disease_id = assoc['subject']['id']\n",
    "            evidence = assoc['provided_by']\n",
    "            results.append((gene_id, disease_id, evidence))\n",
    "    \n",
    "    return results\n",
    "\n",
    "gene_disease_assocs = get_gene_disease_associations('causal')\n",
    "\n",
    "gene_disease_assocs[0]"
   ]
  },
  {
   "cell_type": "code",
   "execution_count": 14,
   "metadata": {},
   "outputs": [
    {
     "name": "stdout",
     "output_type": "stream",
     "text": [
      "Number of human genes with a causal g2p association: 3799\n",
      "OMIM Only Evidence: 168\n",
      "Orphanet Only Evidence: 1979\n",
      "ClinVar Only Evidence: 0\n",
      "OMIM and Orphanet Evidence: 831\n",
      "OMIM and ClinVar Evidence: 2372\n",
      "Orphanet and ClinVar Evidence: 82\n",
      "OMIM, Orphanet, ClinVar Evidence: 2323\n"
     ]
    }
   ],
   "source": [
    "# Process results\n",
    "\n",
    "unique_genes, omim_only, orphanet_only = set(), set(), set()\n",
    "clinvar_only, omim_orphanet, omim_clinvar = set(), set(), set()\n",
    "omim_clinvar, orphanet_clinvar, all_evidence = set(), set(), set()\n",
    "non_redun_orphanet = set()\n",
    "\n",
    "src_to_num = {\n",
    "    \"https://data.monarchinitiative.org/ttl/omim.ttl\": 1,\n",
    "    \"https://data.monarchinitiative.org/ttl/orphanet.ttl\": 3,\n",
    "    \"https://data.monarchinitiative.org/ttl/clinvar.nt\": 5\n",
    "}\n",
    "\n",
    "for gene_id, disease_id, evidence in gene_disease_assocs:\n",
    "    evidence_num = sum([src_to_num[ev] for ev in evidence if ev in src_to_num])\n",
    "    \n",
    "    if gene_id not in protein_coding_genes:\n",
    "        continue\n",
    "        \n",
    "    if evidence_num == 0:\n",
    "        continue\n",
    "    \n",
    "    unique_genes.add(gene_id)\n",
    "\n",
    "    if evidence_num == 1:\n",
    "        omim_only.add((gene_id, disease_id))\n",
    "\n",
    "    elif evidence_num == 3:\n",
    "        orphanet_only.add((gene_id, disease_id))\n",
    "\n",
    "    elif evidence_num == 5:\n",
    "        clinvar_only.add((gene_id, disease_id))\n",
    "\n",
    "    elif evidence_num == 4:\n",
    "        omim_orphanet.add((gene_id, disease_id))\n",
    "\n",
    "    elif evidence_num == 6:\n",
    "        omim_clinvar.add((gene_id, disease_id))\n",
    "\n",
    "    elif evidence_num == 8:\n",
    "        orphanet_clinvar.add((gene_id, disease_id))\n",
    "\n",
    "    elif evidence_num == 9:\n",
    "        all_evidence.add((gene_id, disease_id))\n",
    "        \n",
    "\n",
    "# Determine cases where an Orphanet disease subsumes an OMIM disease\n",
    "# identifier in MONDO and remove from the orphanet only list\n",
    "for gene_id, disease_id in orphanet_only:\n",
    "    is_redundant = False\n",
    "    # Get all subclasses of mondo ID\n",
    "    subclass_query = monarch_api + \"graph/edges/from/\" + disease_id\n",
    "    params = {\n",
    "        'depth': 100,\n",
    "        'direction': 'INCOMING',\n",
    "        'relationship_type': 'subClassOf'\n",
    "    }\n",
    "    \n",
    "    biolink_request = requests.get(subclass_query, params=params)\n",
    "    response = biolink_request.json()\n",
    "    \n",
    "    for node in response['nodes']:\n",
    "        if (gene_id, node['id']) in omim_clinvar:\n",
    "            is_redundant = True\n",
    "            break\n",
    "        elif (gene_id, node['id']) in omim_only:\n",
    "            is_redundant = True\n",
    "            break\n",
    "                \n",
    "    if not is_redundant:\n",
    "        non_redun_orphanet.add((gene_id, disease_id))\n",
    "\n",
    "print(\"Number of human genes with a causal g2p association: {}\".format(len(unique_genes)))\n",
    "print(\"OMIM Only Evidence: {}\".format(len(omim_only)))\n",
    "print(\"Orphanet Only Evidence: {}\".format(len(non_redun_orphanet)))\n",
    "print(\"ClinVar Only Evidence: {}\".format(len(clinvar_only)))\n",
    "print(\"OMIM and Orphanet Evidence: {}\".format(len(omim_orphanet)))\n",
    "print(\"OMIM and ClinVar Evidence: {}\" .format(len(omim_clinvar)))\n",
    "print(\"Orphanet and ClinVar Evidence: {}\".format(len(orphanet_clinvar)))\n",
    "print(\"OMIM, Orphanet, ClinVar Evidence: {}\".format(len(all_evidence)))"
   ]
  },
  {
   "cell_type": "code",
   "execution_count": 17,
   "metadata": {},
   "outputs": [
    {
     "data": {
      "image/png": "[encoded data removed]",
      "text/plain": [
       "<Figure size 432x288 with 1 Axes>"
      ]
     },
     "metadata": {},
     "output_type": "display_data"
    }
   ],
   "source": [
    "import matplotlib.pyplot as plt\n",
    "from matplotlib_venn import venn3\n",
    "\n",
    "venn3(subsets = (\n",
    "    len(non_redun_orphanet),\n",
    "    len(omim_only),\n",
    "    len(omim_orphanet),\n",
    "    len(clinvar_only),\n",
    "    len(orphanet_clinvar),\n",
    "    len(omim_clinvar),\n",
    "    # len(orphanet_clinvar),\n",
    "    len(all_evidence)\n",
    "), set_labels = ('Orphanet', 'OMIM', 'ClinVar'))\n",
    "\n",
    "plt.savefig('disease-venn.png')\n",
    "plt.show()"
   ]
  }
 ],
 "metadata": {
  "kernelspec": {
   "display_name": "Python 3",
   "language": "python",
   "name": "python3"
  },
  "language_info": {
   "codemirror_mode": {
    "name": "ipython",
    "version": 3
   },
   "file_extension": ".py",
   "mimetype": "text/x-python",
   "name": "python",
   "nbconvert_exporter": "python",
   "pygments_lexer": "ipython3",
   "version": "3.7.2"
  }
 },
 "nbformat": 4,
 "nbformat_minor": 2
}
